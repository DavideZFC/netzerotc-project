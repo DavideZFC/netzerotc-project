{
 "cells": [
  {
   "cell_type": "code",
   "execution_count": 1,
   "id": "13128817",
   "metadata": {},
   "outputs": [],
   "source": [
    "import gym\n",
    "import numpy as np"
   ]
  },
  {
   "cell_type": "code",
   "execution_count": 3,
   "id": "bb3973ea",
   "metadata": {},
   "outputs": [],
   "source": [
    "env = gym.make(\n",
    "    \"reference_environment:rangl-nztc-v0\"\n",
    ")\n",
    "env.param.noise_observability = False"
   ]
  },
  {
   "cell_type": "code",
   "execution_count": 6,
   "id": "746ba2fd",
   "metadata": {},
   "outputs": [
    {
     "data": {
      "text/plain": [
       "Box(0.0, 27.0, (3,), float32)"
      ]
     },
     "execution_count": 6,
     "metadata": {},
     "output_type": "execute_result"
    }
   ],
   "source": [
    "env.action_space"
   ]
  },
  {
   "cell_type": "code",
   "execution_count": 7,
   "id": "f756583f",
   "metadata": {},
   "outputs": [],
   "source": [
    "def test_policy(policy):\n",
    "    '''\n",
    "    test a policy\n",
    "    '''\n",
    "    env.reset()\n",
    "    done = False\n",
    "    i = 0\n",
    "    reward = 0\n",
    "    while not done:\n",
    "        state, rew, done, _ = env.step(policy[i,:])\n",
    "        i += 1\n",
    "        reward += rew\n",
    "    return reward"
   ]
  },
  {
   "cell_type": "code",
   "execution_count": 35,
   "id": "3979822a",
   "metadata": {},
   "outputs": [],
   "source": [
    "def save_best(population, q = 0.85, pr = True):\n",
    "    '''\n",
    "    genetic function 1: keeps only the best of the population\n",
    "    '''\n",
    "    evals = np.zeros(len(population))\n",
    "    for i in range(len(population)):\n",
    "        evals[i] = test_policy(population[i])\n",
    "    tresh = np.quantile(evals, q)\n",
    "    ret = []\n",
    "    for i in range(len(population)):\n",
    "        if evals[i]>=tresh:\n",
    "            ret.append(population[i])\n",
    "    if pr:\n",
    "        print('Mean test = '+str(np.mean(evals)))\n",
    "    return ret\n",
    "\n",
    "def populate(population, sd=0.5):\n",
    "    '''\n",
    "    genetic function 2: lets every element vary with a random noise\n",
    "    '''\n",
    "    while len(population)<N:\n",
    "        i = np.random.randint(0,len(population))\n",
    "        noise = sd*np.random.randn(20,3)\n",
    "        population.append(np.maximum(population[i]+noise, np.zeros((20,3))))\n",
    "        "
   ]
  },
  {
   "cell_type": "code",
   "execution_count": 47,
   "id": "71f34ec4",
   "metadata": {},
   "outputs": [
    {
     "name": "stdout",
     "output_type": "stream",
     "text": [
      "Default policy performance\n"
     ]
    }
   ],
   "source": [
    "'''\n",
    "This policy was suggested by the organizer\n",
    "'''\n",
    "\n",
    "default_policy = np.zeros((20,3))\n",
    "for i in range(20):\n",
    "    if i == 12:\n",
    "        default_policy[i,:] = np.array([1.,1.,2.])\n",
    "    else:\n",
    "        default_policy[i,:] = np.array([2.,2.,5.])\n",
    "        \n",
    "print('Default policy performance')"
   ]
  },
  {
   "cell_type": "code",
   "execution_count": 39,
   "id": "b854bf76",
   "metadata": {},
   "outputs": [
    {
     "data": {
      "text/plain": [
       "494116.65380859375"
      ]
     },
     "execution_count": 39,
     "metadata": {},
     "output_type": "execute_result"
    }
   ],
   "source": []
  },
  {
   "cell_type": "code",
   "execution_count": 40,
   "id": "19404e9f",
   "metadata": {},
   "outputs": [],
   "source": [
    "population = []\n",
    "for i in range(20):\n",
    "    population.append(np.copy(default_policy))"
   ]
  },
  {
   "cell_type": "code",
   "execution_count": 42,
   "id": "ef080793",
   "metadata": {},
   "outputs": [
    {
     "name": "stdout",
     "output_type": "stream",
     "text": [
      "Generation 0 started\n",
      "Mean test = 569275.9327697754\n",
      "Generation 1 started\n",
      "Mean test = 596214.9694641114\n",
      "Generation 2 started\n",
      "Mean test = 587457.823046875\n",
      "Generation 3 started\n",
      "Mean test = 598268.3591979981\n",
      "Generation 4 started\n",
      "Mean test = 659770.290411377\n",
      "Generation 5 started\n",
      "Mean test = 606071.1153320313\n",
      "Generation 6 started\n",
      "Mean test = 666854.1186035157\n",
      "Generation 7 started\n",
      "Mean test = 815180.0017150879\n",
      "Generation 8 started\n",
      "Mean test = 722013.6750488281\n",
      "Generation 9 started\n",
      "Mean test = 799881.7967407226\n",
      "Generation 10 started\n",
      "Mean test = 752601.9680908204\n",
      "Generation 11 started\n",
      "Mean test = 719168.9482421875\n",
      "Generation 12 started\n",
      "Mean test = 705702.812171936\n",
      "Generation 13 started\n",
      "Mean test = 849331.5767791749\n",
      "Generation 14 started\n",
      "Mean test = 844376.7721160889\n",
      "Generation 15 started\n",
      "Mean test = 809797.5778762817\n",
      "Generation 16 started\n",
      "Mean test = 1015862.9616607666\n",
      "Generation 17 started\n",
      "Mean test = 1015499.9993743896\n",
      "Generation 18 started\n",
      "Mean test = 1105022.9907684326\n",
      "Generation 19 started\n",
      "Mean test = 1059241.7669799805\n",
      "Generation 20 started\n",
      "Mean test = 1098875.0250106812\n",
      "Generation 21 started\n",
      "Mean test = 1101301.845024109\n",
      "Generation 22 started\n",
      "Mean test = 997202.0993072509\n",
      "Generation 23 started\n",
      "Mean test = 1015103.8515975953\n",
      "Generation 24 started\n",
      "Mean test = 948100.9613830566\n",
      "Generation 25 started\n",
      "Mean test = 1045830.1554168701\n",
      "Generation 26 started\n",
      "Mean test = 1099307.1025253297\n",
      "Generation 27 started\n",
      "Mean test = 1008433.8019012451\n",
      "Generation 28 started\n",
      "Mean test = 1128707.4278259277\n",
      "Generation 29 started\n",
      "Mean test = 1144134.7052505494\n",
      "Generation 30 started\n",
      "Mean test = 1366837.6806793213\n",
      "Generation 31 started\n",
      "Mean test = 1195066.3579223633\n",
      "Generation 32 started\n",
      "Mean test = 1093231.7973815918\n",
      "Generation 33 started\n",
      "Mean test = 1278929.1463485719\n",
      "Generation 34 started\n",
      "Mean test = 1126875.1633331298\n",
      "Generation 35 started\n",
      "Mean test = 1110630.0062347413\n",
      "Generation 36 started\n",
      "Mean test = 1198719.527722168\n",
      "Generation 37 started\n",
      "Mean test = 1057305.919996643\n",
      "Generation 38 started\n",
      "Mean test = 991358.1660644531\n",
      "Generation 39 started\n",
      "Mean test = 1216709.6270477294\n",
      "Generation 40 started\n",
      "Mean test = 1342765.9351898194\n",
      "Generation 41 started\n",
      "Mean test = 1682767.4942016602\n",
      "Generation 42 started\n",
      "Mean test = 1593306.6706222533\n",
      "Generation 43 started\n",
      "Mean test = 1340034.7556304932\n",
      "Generation 44 started\n",
      "Mean test = 1568699.5541625977\n",
      "Generation 45 started\n",
      "Mean test = 1365618.4890502929\n",
      "Generation 46 started\n",
      "Mean test = 1412741.4694396972\n",
      "Generation 47 started\n",
      "Mean test = 1470345.4893493652\n",
      "Generation 48 started\n",
      "Mean test = 1388117.26451416\n",
      "Generation 49 started\n",
      "Mean test = 1549316.3078796386\n",
      "Generation 50 started\n",
      "Mean test = 1593680.7222747803\n",
      "Generation 51 started\n",
      "Mean test = 1403689.5175933838\n",
      "Generation 52 started\n",
      "Mean test = 1364683.4229400635\n",
      "Generation 53 started\n",
      "Mean test = 1885147.2307754518\n",
      "Generation 54 started\n",
      "Mean test = 1461349.5057037354\n",
      "Generation 55 started\n",
      "Mean test = 1709629.0451293946\n",
      "Generation 56 started\n",
      "Mean test = 1668859.5749771118\n",
      "Generation 57 started\n",
      "Mean test = 1606489.624179077\n",
      "Generation 58 started\n",
      "Mean test = 1486714.901800537\n",
      "Generation 59 started\n",
      "Mean test = 1788253.81847229\n",
      "Generation 60 started\n",
      "Mean test = 1731203.3534301757\n",
      "Generation 61 started\n",
      "Mean test = 1842501.950842285\n",
      "Generation 62 started\n",
      "Mean test = 1965772.4531585693\n",
      "Generation 63 started\n",
      "Mean test = 1630895.01673584\n",
      "Generation 64 started\n",
      "Mean test = 1942408.73440094\n",
      "Generation 65 started\n",
      "Mean test = 1659885.518119812\n",
      "Generation 66 started\n",
      "Mean test = 1753414.271368408\n",
      "Generation 67 started\n",
      "Mean test = 1828922.6533950805\n",
      "Generation 68 started\n",
      "Mean test = 1638624.4826385498\n",
      "Generation 69 started\n",
      "Mean test = 1692891.7696487426\n",
      "Generation 70 started\n",
      "Mean test = 1583685.170550537\n",
      "Generation 71 started\n",
      "Mean test = 2126603.7721343995\n",
      "Generation 72 started\n",
      "Mean test = 2014187.65962677\n",
      "Generation 73 started\n",
      "Mean test = 1678356.0009780885\n",
      "Generation 74 started\n",
      "Mean test = 1898205.672543335\n",
      "Generation 75 started\n",
      "Mean test = 1617218.1386795044\n",
      "Generation 76 started\n",
      "Mean test = 1732876.2932922363\n",
      "Generation 77 started\n",
      "Mean test = 1603016.293307495\n",
      "Generation 78 started\n",
      "Mean test = 1645224.7484375\n",
      "Generation 79 started\n",
      "Mean test = 1795380.781387329\n",
      "Generation 80 started\n",
      "Mean test = 1884160.4077056884\n",
      "Generation 81 started\n",
      "Mean test = 1506213.3454467773\n",
      "Generation 82 started\n",
      "Mean test = 2192768.8757446287\n",
      "Generation 83 started\n",
      "Mean test = 1845219.9344985962\n",
      "Generation 84 started\n",
      "Mean test = 1740310.1264190674\n",
      "Generation 85 started\n",
      "Mean test = 2147571.317277527\n",
      "Generation 86 started\n",
      "Mean test = 2036829.0424835205\n",
      "Generation 87 started\n",
      "Mean test = 2125897.0131744384\n",
      "Generation 88 started\n",
      "Mean test = 2210201.2713928223\n",
      "Generation 89 started\n",
      "Mean test = 1980002.1666778564\n",
      "Generation 90 started\n",
      "Mean test = 2044470.8530578613\n",
      "Generation 91 started\n",
      "Mean test = 1855596.9067749023\n",
      "Generation 92 started\n",
      "Mean test = 2119329.639891052\n",
      "Generation 93 started\n",
      "Mean test = 2135429.041519165\n",
      "Generation 94 started\n",
      "Mean test = 2310807.401608276\n",
      "Generation 95 started\n",
      "Mean test = 2246925.459539795\n",
      "Generation 96 started\n",
      "Mean test = 1721398.7294921875\n",
      "Generation 97 started\n",
      "Mean test = 1991507.0173126222\n",
      "Generation 98 started\n",
      "Mean test = 1896293.996633911\n",
      "Generation 99 started\n",
      "Mean test = 1913288.260874939\n"
     ]
    }
   ],
   "source": [
    "G = 100\n",
    "for i in range(G):\n",
    "    print('Generation {} started'.format(i))\n",
    "    population = save_best(population)\n",
    "    populate(population)"
   ]
  },
  {
   "cell_type": "code",
   "execution_count": 44,
   "id": "100c30b4",
   "metadata": {},
   "outputs": [
    {
     "name": "stdout",
     "output_type": "stream",
     "text": [
      "Mean test = 2003005.209828186\n"
     ]
    }
   ],
   "source": [
    "best = save_best(population, q = 0.95, pr = True)"
   ]
  },
  {
   "cell_type": "code",
   "execution_count": 45,
   "id": "80cab507",
   "metadata": {},
   "outputs": [
    {
     "data": {
      "text/plain": [
       "2288854.4799194336"
      ]
     },
     "execution_count": 45,
     "metadata": {},
     "output_type": "execute_result"
    }
   ],
   "source": [
    "test_policy(best[0])"
   ]
  },
  {
   "cell_type": "code",
   "execution_count": 46,
   "id": "769d0f65",
   "metadata": {},
   "outputs": [
    {
     "data": {
      "text/plain": [
       "array([[ 7.24316108,  1.02617807,  8.05266255],\n",
       "       [ 4.97177036,  0.22872518,  6.30763419],\n",
       "       [ 1.43534412,  4.62137587, 14.03669967],\n",
       "       [ 0.12779192,  3.39611345,  1.70905976],\n",
       "       [ 1.76210552,  9.59681064, 11.27910771],\n",
       "       [ 3.63152366, 13.78187154,  1.01773953],\n",
       "       [ 0.41874044,  0.2879806 ,  8.76629496],\n",
       "       [ 1.10743648,  8.44892717,  0.81760591],\n",
       "       [ 3.74017587,  8.02339484,  5.2593761 ],\n",
       "       [ 4.13649842, 10.94947092, 15.78934416],\n",
       "       [13.39415295,  1.79419352, 18.17516434],\n",
       "       [ 2.01642566,  0.32133789,  4.7584183 ],\n",
       "       [ 2.82922395,  3.99639515,  3.92575546],\n",
       "       [ 0.9812106 ,  3.38325799,  8.0963905 ],\n",
       "       [ 8.57439482,  7.08138859,  0.10454269],\n",
       "       [ 5.39817754,  2.51971475,  1.12042797],\n",
       "       [ 1.58649633,  4.26799838,  1.0758693 ],\n",
       "       [ 0.20092549,  2.57034336, 13.00402713],\n",
       "       [ 0.        ,  2.02474582,  1.88453232],\n",
       "       [25.52478083,  1.88480975, 16.76171855]])"
      ]
     },
     "execution_count": 46,
     "metadata": {},
     "output_type": "execute_result"
    }
   ],
   "source": [
    "best[0]"
   ]
  },
  {
   "cell_type": "code",
   "execution_count": null,
   "id": "ff71b1dc",
   "metadata": {},
   "outputs": [],
   "source": []
  }
 ],
 "metadata": {
  "kernelspec": {
   "display_name": "Python 3 (ipykernel)",
   "language": "python",
   "name": "python3"
  },
  "language_info": {
   "codemirror_mode": {
    "name": "ipython",
    "version": 3
   },
   "file_extension": ".py",
   "mimetype": "text/x-python",
   "name": "python",
   "nbconvert_exporter": "python",
   "pygments_lexer": "ipython3",
   "version": "3.7.9"
  }
 },
 "nbformat": 4,
 "nbformat_minor": 5
}
