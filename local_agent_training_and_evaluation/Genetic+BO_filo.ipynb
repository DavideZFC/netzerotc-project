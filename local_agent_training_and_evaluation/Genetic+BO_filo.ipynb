{
 "cells": [
  {
   "cell_type": "code",
   "execution_count": 1,
   "metadata": {},
   "outputs": [],
   "source": [
    "import gym\n",
    "import numpy as np"
   ]
  },
  {
   "cell_type": "code",
   "execution_count": null,
   "metadata": {},
   "outputs": [],
   "source": [
    "env = gym.make(\n",
    "    \"reference_environment:rangl-nztc-v0\"\n",
    ")\n",
    "env.param.noise_observability = False"
   ]
  },
  {
   "cell_type": "code",
   "execution_count": 3,
   "metadata": {},
   "outputs": [
    {
     "data": {
      "text/plain": [
       "Box([0. 0. 0.], [27. 25. 24.], (3,), float32)"
      ]
     },
     "execution_count": 3,
     "metadata": {},
     "output_type": "execute_result"
    }
   ],
   "source": [
    "env.action_space"
   ]
  },
  {
   "cell_type": "code",
   "execution_count": 43,
   "metadata": {},
   "outputs": [],
   "source": [
    "# test policy function changed so that default testing is on multiple seeds\n",
    "\n",
    "def test_policy(policy, seeds = [1]):\n",
    "    '''\n",
    "    test a policy\n",
    "    '''\n",
    "    rewards = []\n",
    "    for seed in seeds:\n",
    "        env.seed(seed)\n",
    "        env.reset()\n",
    "        done = False\n",
    "        i = 0\n",
    "        reward = 0\n",
    "        while not done:\n",
    "            state, rew, done, _ = env.step(policy[i,:])\n",
    "            i += 1\n",
    "            reward += rew\n",
    "        rewards.append(reward)\n",
    "    return rewards"
   ]
  },
  {
   "cell_type": "markdown",
   "metadata": {},
   "source": [
    "### Genetic"
   ]
  },
  {
   "cell_type": "code",
   "execution_count": 12,
   "metadata": {},
   "outputs": [],
   "source": [
    "def save_best(population, q = 0.85, pr = True):\n",
    "    '''\n",
    "    genetic function 1: keeps only the best of the population\n",
    "    '''\n",
    "    evals = np.zeros(len(population))\n",
    "    for i in range(len(population)):\n",
    "        evals[i] = test_policy(population[i])\n",
    "    tresh = np.quantile(evals, q)\n",
    "    ret = []\n",
    "    for i in range(len(population)):\n",
    "        if evals[i]>=tresh:\n",
    "            ret.append(population[i])\n",
    "    if pr:\n",
    "        print('Mean test = '+str(np.mean(evals)))\n",
    "    return ret\n",
    "\n",
    "def populate(population, N=100, sd=0.5):\n",
    "    '''\n",
    "    genetic function 2: lets every element vary with a random noise\n",
    "    '''\n",
    "    while len(population)<N:\n",
    "        i = np.random.randint(0,len(population))\n",
    "        noise = sd*np.random.randn(20,3)\n",
    "        population.append(np.maximum(population[i]+noise, np.zeros((20,3))))\n",
    "        "
   ]
  },
  {
   "cell_type": "code",
   "execution_count": 16,
   "metadata": {},
   "outputs": [
    {
     "name": "stdout",
     "output_type": "stream",
     "text": [
      "Default policy performance 635772.9978027344\n"
     ]
    }
   ],
   "source": [
    "'''\n",
    "This policy was suggested by the organizer\n",
    "'''\n",
    "\n",
    "default_policy = np.zeros((20,3))\n",
    "for i in range(20):\n",
    "    if i == 12:\n",
    "        default_policy[i,:] = np.array([1.,1.,2.])\n",
    "    else:\n",
    "        default_policy[i,:] = np.array([2.,2.,5.])\n",
    "        \n",
    "print('Default policy performance', test_policy(default_policy))"
   ]
  },
  {
   "cell_type": "markdown",
   "metadata": {},
   "source": [
    "If you do not want to reoptimize the genetic algo, load the pickle and skip the section after."
   ]
  },
  {
   "cell_type": "code",
   "execution_count": 215,
   "metadata": {},
   "outputs": [
    {
     "data": {
      "text/plain": [
       "['genetic.pkl']"
      ]
     },
     "execution_count": 215,
     "metadata": {},
     "output_type": "execute_result"
    }
   ],
   "source": [
    "import joblib\n",
    "import pickle \n",
    "\n",
    "#best = joblib.load(\"genetic.pkl\")\n",
    "#joblib.dump(best, \"genetic.pkl\")"
   ]
  },
  {
   "cell_type": "code",
   "execution_count": 17,
   "metadata": {},
   "outputs": [],
   "source": [
    "population = []\n",
    "for i in range(20):\n",
    "    population.append(np.copy(default_policy))\n",
    "    \n",
    "G = 100\n",
    "for i in range(G):\n",
    "    print('Generation {} started'.format(i))\n",
    "    population = save_best(population)\n",
    "    populate(population)\n",
    "    \n",
    "best = save_best(population, q = 0.95, pr = True)"
   ]
  },
  {
   "cell_type": "code",
   "execution_count": 178,
   "metadata": {},
   "outputs": [],
   "source": [
    "seeds_tr = np.arange(0,5)\n",
    "def tuning(trial):\n",
    "    leng = 60\n",
    "    policy = [0]*leng\n",
    "    for i in range(leng):\n",
    "        policy[i] = trial.suggest_uniform('tr_leng'+str(i), 0, 100)\n",
    "        \n",
    "    policy = np.reshape(policy, (20,3))\n",
    "        \n",
    "    rews = test_policy(policy, seeds = seeds_tr)\n",
    "    ci = CI(rews)\n",
    "    return ci[0]"
   ]
  },
  {
   "cell_type": "markdown",
   "metadata": {},
   "source": [
    "### Bayesian optimization\n",
    "\n",
    "Simple bayesian optimization procedure with Optuna using a vanilla TPESampler. \n",
    "The following callback reduces Optuna's verbosity to just printing when finding improved solutions."
   ]
  },
  {
   "cell_type": "code",
   "execution_count": 179,
   "metadata": {},
   "outputs": [],
   "source": [
    "optuna.logging.set_verbosity(optuna.logging.WARN)\n",
    "def logging_callback(study, frozen_trial):\n",
    "    previous_best_value = study.user_attrs.get(\"previous_best_value\", None)\n",
    "    if previous_best_value != study.best_value:\n",
    "        study.set_user_attr(\"previous_best_value\", study.best_value)\n",
    "        print(\n",
    "            \"Trial {} finished with best value: {} and parameters: {}. \".format(\n",
    "            frozen_trial.number,\n",
    "            frozen_trial.value,\n",
    "            frozen_trial.params,\n",
    "            )\n",
    "        )"
   ]
  },
  {
   "cell_type": "code",
   "execution_count": 187,
   "metadata": {},
   "outputs": [],
   "source": [
    "def to_optuna(pol):\n",
    "    policies = {}\n",
    "    count = 0\n",
    "    for i in pol.ravel(order=\"A\"):\n",
    "        policies['tr_leng'+str(count)]=i\n",
    "        count += 1\n",
    "    return policies\n",
    "\n",
    "def from_optuna(pol):\n",
    "    policies = []\n",
    "    count = 0\n",
    "    for i in pol:\n",
    "        policies.append(pol['tr_leng'+str(count)])\n",
    "        count += 1\n",
    "    policies = np.reshape(policies, (20,3))\n",
    "    return policies"
   ]
  },
  {
   "cell_type": "markdown",
   "metadata": {},
   "source": [
    "If you do not want to rerun the study, load the pickle and skip the section after."
   ]
  },
  {
   "cell_type": "code",
   "execution_count": 214,
   "metadata": {},
   "outputs": [
    {
     "data": {
      "text/plain": [
       "['500trials_BO_5seeds.pkl']"
      ]
     },
     "execution_count": 214,
     "metadata": {},
     "output_type": "execute_result"
    }
   ],
   "source": [
    "import optuna \n",
    "\n",
    "#study = joblib.load(\"500trials_BO_5seeds.pkl\")\n",
    "#joblib.dump(study, \"500trials_BO_5seeds.pkl\")"
   ]
  },
  {
   "cell_type": "code",
   "execution_count": null,
   "metadata": {},
   "outputs": [],
   "source": [
    "study = optuna.create_study(direction = 'maximize', sampler=optuna.samplers.TPESampler(), study_name = \"Open_loop\")\n",
    "\n",
    "for i in range(len(best)):\n",
    "    study.enqueue_trial(to_optuna(best[i]))\n",
    "\n",
    "study.optimize(tuning, n_trials = 500, callbacks=[logging_callback])"
   ]
  },
  {
   "cell_type": "markdown",
   "metadata": {},
   "source": [
    "### Benchmarking\n",
    "\n",
    "Here, we load some standard policies to benchmark against."
   ]
  },
  {
   "cell_type": "code",
   "execution_count": 182,
   "metadata": {},
   "outputs": [],
   "source": [
    "import pandas as pd\n",
    "\n",
    "def storm_agent(seeds):\n",
    "        rewards = []\n",
    "        deployments = np.array(np.array(pd.read_excel('./scenario_agents_actions/STORM_Deployments_Modified.xlsx'))[-(env.param.steps_per_episode+1):,1:],\n",
    "                               dtype=np.float32)\n",
    "        actions = deployments[1:,:] - deployments[:-1,:]\n",
    "        for seed in seeds:\n",
    "            env.seed(seed)\n",
    "            env.reset()\n",
    "            while not env.state.is_done():\n",
    "                action = actions[env.state.step_count + 1]\n",
    "                env.step(action)\n",
    "            rewards.append(sum(env.state.rewards_all))\n",
    "        return rewards\n",
    "    \n",
    "def breeze_agent(seeds):\n",
    "        rewards = []\n",
    "        deployments = np.array(np.array(pd.read_excel('./scenario_agents_actions/BREEZE_Deployments_Modified.xlsx'))\n",
    "                               [-(env.param.steps_per_episode+1):,1:],dtype=np.float32)\n",
    "        actions = deployments[1:,:] - deployments[:-1,:]\n",
    "        for seed in seeds:\n",
    "            env.seed(seed)\n",
    "            env.reset()\n",
    "            while not env.state.is_done():\n",
    "                action = actions[env.state.step_count + 1]\n",
    "                env.step(action)\n",
    "            rewards.append(sum(env.state.rewards_all))\n",
    "        return rewards\n",
    "\n",
    "def gale_agent(seeds):\n",
    "    rewards = []\n",
    "    deployments = np.array(np.array(pd.read_excel('./scenario_agents_actions/GALE_Deployments_Modified.xlsx'))\n",
    "                           [-(env.param.steps_per_episode+1):,1:],dtype=np.float32)\n",
    "    actions = deployments[1:,:] - deployments[:-1,:]\n",
    "    for seed in seeds:\n",
    "        env.seed(seed)\n",
    "        env.reset()\n",
    "        while not env.state.is_done():\n",
    "            action = actions[env.state.step_count + 1]\n",
    "            env.step(action)\n",
    "        rewards.append(sum(env.state.rewards_all))\n",
    "    return rewards\n",
    "\n",
    "    \n",
    "def random_agent(seeds):\n",
    "    rewards = []\n",
    "    for seed in seeds:\n",
    "        env.seed(seed)\n",
    "        env.reset()\n",
    "        while not env.state.is_done():\n",
    "            action = env.action_space.sample()\n",
    "            env.step(action)\n",
    "        rewards.append(sum(env.state.rewards_all))\n",
    "    return rewards"
   ]
  },
  {
   "cell_type": "code",
   "execution_count": 122,
   "metadata": {},
   "outputs": [],
   "source": [
    "import scipy.stats as ss\n",
    "n = 100\n",
    "seeds = np.arange(100,n+100)\n",
    "\n",
    "def CI(rews, alpha = 0.95):\n",
    "    rews = [i/100000 for i in rews]\n",
    "    mean = np.mean(rews)\n",
    "    sd = np.std(rews)\n",
    "    n = len(rews)\n",
    "    return np.round(mean - sd * ss.t.ppf(1-(1-alpha)/2, n-1)/ np.sqrt(n), 1), np.round(mean + sd * ss.t.ppf(1-(1-alpha)/2, n-1)/ np.sqrt(n),1)"
   ]
  },
  {
   "cell_type": "code",
   "execution_count": 123,
   "metadata": {},
   "outputs": [
    {
     "name": "stdout",
     "output_type": "stream",
     "text": [
      "Best genetic:  (30.4, 34.6)\n"
     ]
    }
   ],
   "source": [
    "print(\"Best genetic: \", CI(test_policy(best[0], seeds = seeds)))"
   ]
  },
  {
   "cell_type": "code",
   "execution_count": 125,
   "metadata": {},
   "outputs": [
    {
     "name": "stdout",
     "output_type": "stream",
     "text": [
      "Random policy:  (-2.2, 0.6)\n"
     ]
    }
   ],
   "source": [
    "print(\"Random policy: \", CI(random_agent(seeds = seeds)))"
   ]
  },
  {
   "cell_type": "code",
   "execution_count": 124,
   "metadata": {},
   "outputs": [
    {
     "name": "stdout",
     "output_type": "stream",
     "text": [
      "Default policy:  (5.4, 6.1)\n"
     ]
    }
   ],
   "source": [
    "print(\"Default policy: \", CI(test_policy(default_policy, seeds = seeds)))"
   ]
  },
  {
   "cell_type": "code",
   "execution_count": 126,
   "metadata": {},
   "outputs": [
    {
     "name": "stdout",
     "output_type": "stream",
     "text": [
      "Breeze policy:  (8.2, 9.0)\n"
     ]
    }
   ],
   "source": [
    "print(\"Breeze policy: \", CI(breeze_agent(seeds = seeds)))"
   ]
  },
  {
   "cell_type": "code",
   "execution_count": 127,
   "metadata": {},
   "outputs": [
    {
     "name": "stdout",
     "output_type": "stream",
     "text": [
      "Gale policy:  (10.9, 12.3)\n"
     ]
    }
   ],
   "source": [
    "print(\"Gale policy: \", CI(gale_agent(seeds = seeds)))"
   ]
  },
  {
   "cell_type": "code",
   "execution_count": 128,
   "metadata": {},
   "outputs": [
    {
     "name": "stdout",
     "output_type": "stream",
     "text": [
      "Storm policy:  (11.7, 13.7)\n"
     ]
    }
   ],
   "source": [
    "print(\"Storm policy: \", CI(storm_agent(seeds = seeds)))"
   ]
  },
  {
   "cell_type": "code",
   "execution_count": 191,
   "metadata": {},
   "outputs": [
    {
     "name": "stdout",
     "output_type": "stream",
     "text": [
      "BO policy:  (56.1, 64.3)\n"
     ]
    }
   ],
   "source": [
    "print(\"BO policy: \", CI(test_policy(from_optuna(study.best_params), seeds = seeds)))"
   ]
  },
  {
   "cell_type": "markdown",
   "metadata": {},
   "source": [
    "### BO solutions' analysis"
   ]
  },
  {
   "cell_type": "code",
   "execution_count": 212,
   "metadata": {},
   "outputs": [
    {
     "name": "stderr",
     "output_type": "stream",
     "text": [
      "<ipython-input-212-471f79a759ba>:1: ExperimentalWarning: plot_optimization_history is experimental (supported from v2.2.0). The interface can change in the future.\n",
      "  optuna.visualization.matplotlib.plot_optimization_history(study)\n"
     ]
    },
    {
     "data": {
      "text/plain": [
       "<AxesSubplot:title={'center':'Optimization History Plot'}, xlabel='#Trials', ylabel='Objective Value'>"
      ]
     },
     "execution_count": 212,
     "metadata": {},
     "output_type": "execute_result"
    },
    {
     "data": {
      "image/png": "[encoded data removed]",
      "text/plain": [
       "<Figure size 432x288 with 1 Axes>"
      ]
     },
     "metadata": {},
     "output_type": "display_data"
    }
   ],
   "source": [
    "optuna.visualization.matplotlib.plot_optimization_history(study)"
   ]
  },
  {
   "cell_type": "code",
   "execution_count": 209,
   "metadata": {},
   "outputs": [
    {
     "data": {
      "text/plain": [
       "OrderedDict([('tr_leng49', 0.13472481880418014),\n",
       "             ('tr_leng22', 0.10038678265642469),\n",
       "             ('tr_leng59', 0.07757695845509534),\n",
       "             ('tr_leng14', 0.07518501765923669),\n",
       "             ('tr_leng57', 0.07090380479358391),\n",
       "             ('tr_leng8', 0.05549299388325403),\n",
       "             ('tr_leng9', 0.047609118248576346),\n",
       "             ('tr_leng23', 0.04633366440557109),\n",
       "             ('tr_leng29', 0.03530115382136999),\n",
       "             ('tr_leng36', 0.03292302223128903),\n",
       "             ('tr_leng28', 0.022683629482146958),\n",
       "             ('tr_leng34', 0.02014217538781996),\n",
       "             ('tr_leng16', 0.019860427226492675),\n",
       "             ('tr_leng48', 0.019312589238828105),\n",
       "             ('tr_leng17', 0.019205878028116078),\n",
       "             ('tr_leng27', 0.017496036137856923),\n",
       "             ('tr_leng12', 0.01679493029919235),\n",
       "             ('tr_leng3', 0.014344277657296407),\n",
       "             ('tr_leng32', 0.013135730589339511),\n",
       "             ('tr_leng0', 0.012974573161137143),\n",
       "             ('tr_leng2', 0.010142579251858741),\n",
       "             ('tr_leng25', 0.009856867098530953),\n",
       "             ('tr_leng21', 0.009262637805209906),\n",
       "             ('tr_leng5', 0.008665085264284602),\n",
       "             ('tr_leng31', 0.007671830890491336),\n",
       "             ('tr_leng30', 0.007271412432174115),\n",
       "             ('tr_leng4', 0.0071797123513709735),\n",
       "             ('tr_leng13', 0.007080279554590743),\n",
       "             ('tr_leng47', 0.006997302920842281),\n",
       "             ('tr_leng10', 0.006072222913762953),\n",
       "             ('tr_leng7', 0.0054780540678610835),\n",
       "             ('tr_leng56', 0.0050686617405287055),\n",
       "             ('tr_leng43', 0.004292262746389325),\n",
       "             ('tr_leng11', 0.00403765029731008),\n",
       "             ('tr_leng35', 0.0039911444098150355),\n",
       "             ('tr_leng19', 0.0038010394455400575),\n",
       "             ('tr_leng44', 0.00376912252305899),\n",
       "             ('tr_leng41', 0.0035895747832029863),\n",
       "             ('tr_leng58', 0.0033115764441315823),\n",
       "             ('tr_leng1', 0.0032322066004778893),\n",
       "             ('tr_leng42', 0.002953752093255099),\n",
       "             ('tr_leng45', 0.0027396216726932243),\n",
       "             ('tr_leng53', 0.0021977995784540566),\n",
       "             ('tr_leng50', 0.0021624333757979427),\n",
       "             ('tr_leng6', 0.0018714230215686183),\n",
       "             ('tr_leng33', 0.0017559840864906225),\n",
       "             ('tr_leng46', 0.0014961729798407294),\n",
       "             ('tr_leng54', 0.0014031168125319953),\n",
       "             ('tr_leng51', 0.001347648870401463),\n",
       "             ('tr_leng26', 0.0011751651418813866),\n",
       "             ('tr_leng20', 0.0011477354310777186),\n",
       "             ('tr_leng40', 0.00113769830872213),\n",
       "             ('tr_leng55', 0.001128284934447214),\n",
       "             ('tr_leng37', 0.0010175859532346476),\n",
       "             ('tr_leng15', 0.0009646559235372243),\n",
       "             ('tr_leng18', 0.0008622443730018186),\n",
       "             ('tr_leng38', 0.0007844598169987141),\n",
       "             ('tr_leng52', 0.0003794480037364715),\n",
       "             ('tr_leng39', 0.0002622849034602085),\n",
       "             ('tr_leng24', 5.367901062892509e-05)])"
      ]
     },
     "execution_count": 209,
     "metadata": {},
     "output_type": "execute_result"
    }
   ],
   "source": [
    "#these are hella weird fanova results\n",
    "imp = optuna.importance.FanovaImportanceEvaluator()\n",
    "imp.evaluate(study)"
   ]
  },
  {
   "cell_type": "code",
   "execution_count": 218,
   "metadata": {},
   "outputs": [
    {
     "data": {
      "text/html": [
       "<div>\n",
       "<style scoped>\n",
       "    .dataframe tbody tr th:only-of-type {\n",
       "        vertical-align: middle;\n",
       "    }\n",
       "\n",
       "    .dataframe tbody tr th {\n",
       "        vertical-align: top;\n",
       "    }\n",
       "\n",
       "    .dataframe thead th {\n",
       "        text-align: right;\n",
       "    }\n",
       "</style>\n",
       "<table border=\"1\" class=\"dataframe\">\n",
       "  <thead>\n",
       "    <tr style=\"text-align: right;\">\n",
       "      <th></th>\n",
       "      <th>number</th>\n",
       "      <th>value</th>\n",
       "      <th>datetime_start</th>\n",
       "      <th>datetime_complete</th>\n",
       "      <th>duration</th>\n",
       "      <th>params_tr_leng0</th>\n",
       "      <th>params_tr_leng1</th>\n",
       "      <th>params_tr_leng10</th>\n",
       "      <th>params_tr_leng11</th>\n",
       "      <th>params_tr_leng12</th>\n",
       "      <th>...</th>\n",
       "      <th>params_tr_leng56</th>\n",
       "      <th>params_tr_leng57</th>\n",
       "      <th>params_tr_leng58</th>\n",
       "      <th>params_tr_leng59</th>\n",
       "      <th>params_tr_leng6</th>\n",
       "      <th>params_tr_leng7</th>\n",
       "      <th>params_tr_leng8</th>\n",
       "      <th>params_tr_leng9</th>\n",
       "      <th>system_attrs_fixed_params</th>\n",
       "      <th>state</th>\n",
       "    </tr>\n",
       "  </thead>\n",
       "  <tbody>\n",
       "    <tr>\n",
       "      <th>0</th>\n",
       "      <td>0</td>\n",
       "      <td>23.2</td>\n",
       "      <td>2022-01-24 15:41:22.809529</td>\n",
       "      <td>2022-01-24 15:41:24.235753</td>\n",
       "      <td>0 days 00:00:01.426224</td>\n",
       "      <td>5.634304</td>\n",
       "      <td>7.316352</td>\n",
       "      <td>9.617812</td>\n",
       "      <td>18.303187</td>\n",
       "      <td>1.672042</td>\n",
       "      <td>...</td>\n",
       "      <td>5.274169</td>\n",
       "      <td>23.097366</td>\n",
       "      <td>7.501486</td>\n",
       "      <td>35.079882</td>\n",
       "      <td>1.434977</td>\n",
       "      <td>8.063622</td>\n",
       "      <td>10.351713</td>\n",
       "      <td>0.326878</td>\n",
       "      <td>{'tr_leng0': 5.634303803110234, 'tr_leng1': 7....</td>\n",
       "      <td>COMPLETE</td>\n",
       "    </tr>\n",
       "    <tr>\n",
       "      <th>1</th>\n",
       "      <td>1</td>\n",
       "      <td>22.5</td>\n",
       "      <td>2022-01-24 15:41:22.809529</td>\n",
       "      <td>2022-01-24 15:41:25.681845</td>\n",
       "      <td>0 days 00:00:02.872316</td>\n",
       "      <td>2.185352</td>\n",
       "      <td>6.811340</td>\n",
       "      <td>11.927183</td>\n",
       "      <td>21.823755</td>\n",
       "      <td>2.020615</td>\n",
       "      <td>...</td>\n",
       "      <td>5.344566</td>\n",
       "      <td>20.236872</td>\n",
       "      <td>7.747131</td>\n",
       "      <td>35.768408</td>\n",
       "      <td>1.142324</td>\n",
       "      <td>8.922184</td>\n",
       "      <td>7.482048</td>\n",
       "      <td>0.000000</td>\n",
       "      <td>{'tr_leng0': 2.1853516461721165, 'tr_leng1': 6...</td>\n",
       "      <td>COMPLETE</td>\n",
       "    </tr>\n",
       "    <tr>\n",
       "      <th>2</th>\n",
       "      <td>2</td>\n",
       "      <td>22.4</td>\n",
       "      <td>2022-01-24 15:41:22.809529</td>\n",
       "      <td>2022-01-24 15:41:27.293533</td>\n",
       "      <td>0 days 00:00:04.484004</td>\n",
       "      <td>2.637113</td>\n",
       "      <td>6.826052</td>\n",
       "      <td>5.675558</td>\n",
       "      <td>17.114745</td>\n",
       "      <td>2.150722</td>\n",
       "      <td>...</td>\n",
       "      <td>7.624058</td>\n",
       "      <td>19.661700</td>\n",
       "      <td>7.421946</td>\n",
       "      <td>36.347770</td>\n",
       "      <td>2.011983</td>\n",
       "      <td>6.766495</td>\n",
       "      <td>7.600733</td>\n",
       "      <td>2.413406</td>\n",
       "      <td>{'tr_leng0': 2.6371125103022246, 'tr_leng1': 6...</td>\n",
       "      <td>COMPLETE</td>\n",
       "    </tr>\n",
       "    <tr>\n",
       "      <th>3</th>\n",
       "      <td>3</td>\n",
       "      <td>22.0</td>\n",
       "      <td>2022-01-24 15:41:22.809529</td>\n",
       "      <td>2022-01-24 15:41:28.701469</td>\n",
       "      <td>0 days 00:00:05.891940</td>\n",
       "      <td>4.393647</td>\n",
       "      <td>6.438777</td>\n",
       "      <td>11.161822</td>\n",
       "      <td>19.081654</td>\n",
       "      <td>0.000000</td>\n",
       "      <td>...</td>\n",
       "      <td>5.231175</td>\n",
       "      <td>19.057959</td>\n",
       "      <td>4.589251</td>\n",
       "      <td>35.137173</td>\n",
       "      <td>0.004097</td>\n",
       "      <td>6.960962</td>\n",
       "      <td>8.958971</td>\n",
       "      <td>0.806233</td>\n",
       "      <td>{'tr_leng0': 4.393646685339862, 'tr_leng1': 6....</td>\n",
       "      <td>COMPLETE</td>\n",
       "    </tr>\n",
       "    <tr>\n",
       "      <th>4</th>\n",
       "      <td>4</td>\n",
       "      <td>23.1</td>\n",
       "      <td>2022-01-24 15:41:22.810550</td>\n",
       "      <td>2022-01-24 15:41:30.153547</td>\n",
       "      <td>0 days 00:00:07.342997</td>\n",
       "      <td>5.365830</td>\n",
       "      <td>8.348348</td>\n",
       "      <td>8.960549</td>\n",
       "      <td>19.549655</td>\n",
       "      <td>0.793570</td>\n",
       "      <td>...</td>\n",
       "      <td>5.371970</td>\n",
       "      <td>23.050815</td>\n",
       "      <td>6.355176</td>\n",
       "      <td>34.909004</td>\n",
       "      <td>1.265695</td>\n",
       "      <td>8.410529</td>\n",
       "      <td>9.222989</td>\n",
       "      <td>0.000000</td>\n",
       "      <td>{'tr_leng0': 5.365830253771055, 'tr_leng1': 8....</td>\n",
       "      <td>COMPLETE</td>\n",
       "    </tr>\n",
       "    <tr>\n",
       "      <th>...</th>\n",
       "      <td>...</td>\n",
       "      <td>...</td>\n",
       "      <td>...</td>\n",
       "      <td>...</td>\n",
       "      <td>...</td>\n",
       "      <td>...</td>\n",
       "      <td>...</td>\n",
       "      <td>...</td>\n",
       "      <td>...</td>\n",
       "      <td>...</td>\n",
       "      <td>...</td>\n",
       "      <td>...</td>\n",
       "      <td>...</td>\n",
       "      <td>...</td>\n",
       "      <td>...</td>\n",
       "      <td>...</td>\n",
       "      <td>...</td>\n",
       "      <td>...</td>\n",
       "      <td>...</td>\n",
       "      <td>...</td>\n",
       "      <td>...</td>\n",
       "    </tr>\n",
       "    <tr>\n",
       "      <th>495</th>\n",
       "      <td>495</td>\n",
       "      <td>-0.1</td>\n",
       "      <td>2022-01-24 15:59:21.695132</td>\n",
       "      <td>2022-01-24 15:59:24.305605</td>\n",
       "      <td>0 days 00:00:02.610473</td>\n",
       "      <td>45.104035</td>\n",
       "      <td>18.302847</td>\n",
       "      <td>59.474805</td>\n",
       "      <td>14.696049</td>\n",
       "      <td>29.786500</td>\n",
       "      <td>...</td>\n",
       "      <td>2.861110</td>\n",
       "      <td>70.984891</td>\n",
       "      <td>47.456901</td>\n",
       "      <td>94.932650</td>\n",
       "      <td>9.248073</td>\n",
       "      <td>51.176571</td>\n",
       "      <td>8.417701</td>\n",
       "      <td>89.187871</td>\n",
       "      <td>NaN</td>\n",
       "      <td>COMPLETE</td>\n",
       "    </tr>\n",
       "    <tr>\n",
       "      <th>496</th>\n",
       "      <td>496</td>\n",
       "      <td>-14.2</td>\n",
       "      <td>2022-01-24 15:59:24.307596</td>\n",
       "      <td>2022-01-24 15:59:26.998401</td>\n",
       "      <td>0 days 00:00:02.690805</td>\n",
       "      <td>29.052809</td>\n",
       "      <td>10.055908</td>\n",
       "      <td>54.903468</td>\n",
       "      <td>5.705262</td>\n",
       "      <td>41.369785</td>\n",
       "      <td>...</td>\n",
       "      <td>2.307652</td>\n",
       "      <td>73.036868</td>\n",
       "      <td>57.845423</td>\n",
       "      <td>92.849472</td>\n",
       "      <td>7.329786</td>\n",
       "      <td>53.859019</td>\n",
       "      <td>10.366463</td>\n",
       "      <td>85.121922</td>\n",
       "      <td>NaN</td>\n",
       "      <td>COMPLETE</td>\n",
       "    </tr>\n",
       "    <tr>\n",
       "      <th>497</th>\n",
       "      <td>497</td>\n",
       "      <td>14.7</td>\n",
       "      <td>2022-01-24 15:59:26.999398</td>\n",
       "      <td>2022-01-24 15:59:28.863452</td>\n",
       "      <td>0 days 00:00:01.864054</td>\n",
       "      <td>37.650066</td>\n",
       "      <td>12.448396</td>\n",
       "      <td>61.034119</td>\n",
       "      <td>9.554817</td>\n",
       "      <td>34.387540</td>\n",
       "      <td>...</td>\n",
       "      <td>6.156278</td>\n",
       "      <td>76.714390</td>\n",
       "      <td>56.110022</td>\n",
       "      <td>98.308564</td>\n",
       "      <td>56.433178</td>\n",
       "      <td>58.389761</td>\n",
       "      <td>13.973848</td>\n",
       "      <td>24.374722</td>\n",
       "      <td>NaN</td>\n",
       "      <td>COMPLETE</td>\n",
       "    </tr>\n",
       "    <tr>\n",
       "      <th>498</th>\n",
       "      <td>498</td>\n",
       "      <td>36.0</td>\n",
       "      <td>2022-01-24 15:59:28.865443</td>\n",
       "      <td>2022-01-24 15:59:30.703489</td>\n",
       "      <td>0 days 00:00:01.838046</td>\n",
       "      <td>48.762111</td>\n",
       "      <td>71.890498</td>\n",
       "      <td>47.299539</td>\n",
       "      <td>12.364752</td>\n",
       "      <td>44.153383</td>\n",
       "      <td>...</td>\n",
       "      <td>4.148194</td>\n",
       "      <td>68.732084</td>\n",
       "      <td>49.885807</td>\n",
       "      <td>99.938872</td>\n",
       "      <td>46.041862</td>\n",
       "      <td>56.299833</td>\n",
       "      <td>16.688893</td>\n",
       "      <td>93.393419</td>\n",
       "      <td>NaN</td>\n",
       "      <td>COMPLETE</td>\n",
       "    </tr>\n",
       "    <tr>\n",
       "      <th>499</th>\n",
       "      <td>499</td>\n",
       "      <td>33.7</td>\n",
       "      <td>2022-01-24 15:59:30.704487</td>\n",
       "      <td>2022-01-24 15:59:32.681201</td>\n",
       "      <td>0 days 00:00:01.976714</td>\n",
       "      <td>40.454323</td>\n",
       "      <td>86.523674</td>\n",
       "      <td>57.031710</td>\n",
       "      <td>15.473499</td>\n",
       "      <td>37.724528</td>\n",
       "      <td>...</td>\n",
       "      <td>7.858414</td>\n",
       "      <td>65.432567</td>\n",
       "      <td>43.972268</td>\n",
       "      <td>96.599659</td>\n",
       "      <td>41.116170</td>\n",
       "      <td>61.033673</td>\n",
       "      <td>7.811720</td>\n",
       "      <td>79.781353</td>\n",
       "      <td>NaN</td>\n",
       "      <td>COMPLETE</td>\n",
       "    </tr>\n",
       "  </tbody>\n",
       "</table>\n",
       "<p>500 rows × 67 columns</p>\n",
       "</div>"
      ],
      "text/plain": [
       "     number  value             datetime_start          datetime_complete  \\\n",
       "0         0   23.2 2022-01-24 15:41:22.809529 2022-01-24 15:41:24.235753   \n",
       "1         1   22.5 2022-01-24 15:41:22.809529 2022-01-24 15:41:25.681845   \n",
       "2         2   22.4 2022-01-24 15:41:22.809529 2022-01-24 15:41:27.293533   \n",
       "3         3   22.0 2022-01-24 15:41:22.809529 2022-01-24 15:41:28.701469   \n",
       "4         4   23.1 2022-01-24 15:41:22.810550 2022-01-24 15:41:30.153547   \n",
       "..      ...    ...                        ...                        ...   \n",
       "495     495   -0.1 2022-01-24 15:59:21.695132 2022-01-24 15:59:24.305605   \n",
       "496     496  -14.2 2022-01-24 15:59:24.307596 2022-01-24 15:59:26.998401   \n",
       "497     497   14.7 2022-01-24 15:59:26.999398 2022-01-24 15:59:28.863452   \n",
       "498     498   36.0 2022-01-24 15:59:28.865443 2022-01-24 15:59:30.703489   \n",
       "499     499   33.7 2022-01-24 15:59:30.704487 2022-01-24 15:59:32.681201   \n",
       "\n",
       "                  duration  params_tr_leng0  params_tr_leng1  \\\n",
       "0   0 days 00:00:01.426224         5.634304         7.316352   \n",
       "1   0 days 00:00:02.872316         2.185352         6.811340   \n",
       "2   0 days 00:00:04.484004         2.637113         6.826052   \n",
       "3   0 days 00:00:05.891940         4.393647         6.438777   \n",
       "4   0 days 00:00:07.342997         5.365830         8.348348   \n",
       "..                     ...              ...              ...   \n",
       "495 0 days 00:00:02.610473        45.104035        18.302847   \n",
       "496 0 days 00:00:02.690805        29.052809        10.055908   \n",
       "497 0 days 00:00:01.864054        37.650066        12.448396   \n",
       "498 0 days 00:00:01.838046        48.762111        71.890498   \n",
       "499 0 days 00:00:01.976714        40.454323        86.523674   \n",
       "\n",
       "     params_tr_leng10  params_tr_leng11  params_tr_leng12  ...  \\\n",
       "0            9.617812         18.303187          1.672042  ...   \n",
       "1           11.927183         21.823755          2.020615  ...   \n",
       "2            5.675558         17.114745          2.150722  ...   \n",
       "3           11.161822         19.081654          0.000000  ...   \n",
       "4            8.960549         19.549655          0.793570  ...   \n",
       "..                ...               ...               ...  ...   \n",
       "495         59.474805         14.696049         29.786500  ...   \n",
       "496         54.903468          5.705262         41.369785  ...   \n",
       "497         61.034119          9.554817         34.387540  ...   \n",
       "498         47.299539         12.364752         44.153383  ...   \n",
       "499         57.031710         15.473499         37.724528  ...   \n",
       "\n",
       "     params_tr_leng56  params_tr_leng57  params_tr_leng58  params_tr_leng59  \\\n",
       "0            5.274169         23.097366          7.501486         35.079882   \n",
       "1            5.344566         20.236872          7.747131         35.768408   \n",
       "2            7.624058         19.661700          7.421946         36.347770   \n",
       "3            5.231175         19.057959          4.589251         35.137173   \n",
       "4            5.371970         23.050815          6.355176         34.909004   \n",
       "..                ...               ...               ...               ...   \n",
       "495          2.861110         70.984891         47.456901         94.932650   \n",
       "496          2.307652         73.036868         57.845423         92.849472   \n",
       "497          6.156278         76.714390         56.110022         98.308564   \n",
       "498          4.148194         68.732084         49.885807         99.938872   \n",
       "499          7.858414         65.432567         43.972268         96.599659   \n",
       "\n",
       "     params_tr_leng6  params_tr_leng7  params_tr_leng8  params_tr_leng9  \\\n",
       "0           1.434977         8.063622        10.351713         0.326878   \n",
       "1           1.142324         8.922184         7.482048         0.000000   \n",
       "2           2.011983         6.766495         7.600733         2.413406   \n",
       "3           0.004097         6.960962         8.958971         0.806233   \n",
       "4           1.265695         8.410529         9.222989         0.000000   \n",
       "..               ...              ...              ...              ...   \n",
       "495         9.248073        51.176571         8.417701        89.187871   \n",
       "496         7.329786        53.859019        10.366463        85.121922   \n",
       "497        56.433178        58.389761        13.973848        24.374722   \n",
       "498        46.041862        56.299833        16.688893        93.393419   \n",
       "499        41.116170        61.033673         7.811720        79.781353   \n",
       "\n",
       "                             system_attrs_fixed_params     state  \n",
       "0    {'tr_leng0': 5.634303803110234, 'tr_leng1': 7....  COMPLETE  \n",
       "1    {'tr_leng0': 2.1853516461721165, 'tr_leng1': 6...  COMPLETE  \n",
       "2    {'tr_leng0': 2.6371125103022246, 'tr_leng1': 6...  COMPLETE  \n",
       "3    {'tr_leng0': 4.393646685339862, 'tr_leng1': 6....  COMPLETE  \n",
       "4    {'tr_leng0': 5.365830253771055, 'tr_leng1': 8....  COMPLETE  \n",
       "..                                                 ...       ...  \n",
       "495                                                NaN  COMPLETE  \n",
       "496                                                NaN  COMPLETE  \n",
       "497                                                NaN  COMPLETE  \n",
       "498                                                NaN  COMPLETE  \n",
       "499                                                NaN  COMPLETE  \n",
       "\n",
       "[500 rows x 67 columns]"
      ]
     },
     "execution_count": 218,
     "metadata": {},
     "output_type": "execute_result"
    }
   ],
   "source": [
    "# we might use this to train some ml model to learn the transitions in the world\n",
    "study.trials_dataframe()"
   ]
  },
  {
   "cell_type": "code",
   "execution_count": 33,
   "metadata": {},
   "outputs": [
    {
     "data": {
      "text/plain": [
       "array([[ 5.6343038 ,  7.31635202,  1.04764082],\n",
       "       [ 7.11204356,  6.41293783,  8.59869597],\n",
       "       [ 1.43497739,  8.06362219, 10.35171344],\n",
       "       [ 0.32687801,  9.61781173, 18.30318662],\n",
       "       [ 1.67204239,  4.30744581,  6.87910739],\n",
       "       [ 7.11997416,  9.6087187 ,  2.08295828],\n",
       "       [ 6.96856308,  5.03822311,  8.06581453],\n",
       "       [10.73024393,  0.        ,  0.63671874],\n",
       "       [13.25631509,  0.        ,  9.68204517],\n",
       "       [ 0.2727848 ,  3.83393124,  0.95144656],\n",
       "       [ 2.31735592,  3.72031839,  0.33757205],\n",
       "       [ 0.29040397,  0.        , 13.30277209],\n",
       "       [ 2.41813802,  7.48978664,  0.10510811],\n",
       "       [ 5.69475841,  2.95852143,  0.20538076],\n",
       "       [ 0.99934783, 14.76048492,  2.47227299],\n",
       "       [ 8.60948315, 13.21268992, 10.0593964 ],\n",
       "       [ 1.91417127,  2.33944804,  7.27155397],\n",
       "       [ 5.9627084 ,  0.57227365,  3.05363263],\n",
       "       [ 6.71517223,  4.90494494,  5.27416879],\n",
       "       [23.09736591,  7.50148603, 35.07988178]])"
      ]
     },
     "execution_count": 33,
     "metadata": {},
     "output_type": "execute_result"
    }
   ],
   "source": [
    "best[0]"
   ]
  },
  {
   "cell_type": "code",
   "execution_count": 203,
   "metadata": {},
   "outputs": [
    {
     "data": {
      "text/plain": [
       "array([112.54703132, 111.65899658, 143.76106708])"
      ]
     },
     "execution_count": 203,
     "metadata": {},
     "output_type": "execute_result"
    }
   ],
   "source": [
    "sum(best[0])"
   ]
  },
  {
   "cell_type": "code",
   "execution_count": 197,
   "metadata": {},
   "outputs": [],
   "source": [
    "params = from_optuna(study.best_params)"
   ]
  },
  {
   "cell_type": "code",
   "execution_count": 205,
   "metadata": {},
   "outputs": [
    {
     "name": "stdout",
     "output_type": "stream",
     "text": [
      "[[34.06098921 35.10157699  1.96883022]\n",
      " [ 8.15768141 27.74061357  3.78296749]\n",
      " [ 3.54308994 39.95603924  0.08742552]\n",
      " [93.4220143  68.83593414 18.86210422]\n",
      " [91.1018146  53.91288973  0.00937667]\n",
      " [10.25363548 89.16170143  5.60669984]\n",
      " [17.68934498 13.02025925 20.05841931]\n",
      " [23.12969423 94.50491924  2.44392807]\n",
      " [38.04449519 16.62203998  0.06062715]\n",
      " [18.87386982 32.57907884  0.27147199]\n",
      " [ 9.20220743 76.40191643  6.75912408]\n",
      " [71.59111116  2.75981099  9.98611507]\n",
      " [ 8.66206711 21.22874917  0.10343962]\n",
      " [27.99018467 14.08841979 20.53984744]\n",
      " [39.00127893 29.48090945 23.78639934]\n",
      " [53.4416578   0.11025784 10.03698162]\n",
      " [ 1.27820473 65.68902876  4.36842314]\n",
      " [45.44466506 16.05524783  2.88365504]\n",
      " [94.51339922 15.43902904  9.31175703]\n",
      " [65.00215315 12.15373248 99.75717375]]\n"
     ]
    },
    {
     "data": {
      "text/plain": [
       "array([754.40355842, 724.84215418, 240.68476663])"
      ]
     },
     "execution_count": 205,
     "metadata": {},
     "output_type": "execute_result"
    }
   ],
   "source": [
    "np.set_printoptions(suppress=True)\n",
    "print(params)\n",
    "sum(params)"
   ]
  },
  {
   "cell_type": "code",
   "execution_count": 222,
   "metadata": {},
   "outputs": [
    {
     "data": {
      "text/plain": [
       "['optimal_policy.pkl']"
      ]
     },
     "execution_count": 222,
     "metadata": {},
     "output_type": "execute_result"
    }
   ],
   "source": [
    "joblib.dump(params, \"optimal_policy.pkl\")"
   ]
  },
  {
   "cell_type": "code",
   "execution_count": 221,
   "metadata": {},
   "outputs": [
    {
     "name": "stdout",
     "output_type": "stream",
     "text": [
      "[array([34.06098921, 35.10157699,  1.96883022]), array([ 8.15768141, 27.74061357,  3.78296749]), array([ 3.54308994, 39.95603924,  0.08742552]), array([93.4220143 , 68.83593414, 18.86210422]), array([91.1018146 , 53.91288973,  0.00937667]), array([10.25363548, 89.16170143,  5.60669984]), array([17.68934498, 13.02025925, 20.05841931]), array([23.12969423, 94.50491924,  2.44392807]), array([38.04449519, 16.62203998,  0.06062715]), array([18.87386982, 32.57907884,  0.27147199]), array([ 9.20220743, 76.40191643,  6.75912408]), array([71.59111116,  2.75981099,  9.98611507]), array([ 8.66206711, 21.22874917,  0.10343962]), array([27.99018467, 14.08841979, 20.53984744]), array([39.00127893, 29.48090945, 23.78639934]), array([53.4416578 ,  0.11025784, 10.03698162]), array([ 1.27820473, 65.68902876,  4.36842314]), array([45.44466506, 16.05524783,  2.88365504]), array([94.51339922, 15.43902904,  9.31175703]), array([65.00215315, 12.15373248, 99.75717375])]\n"
     ]
    }
   ],
   "source": [
    "print(list(params))"
   ]
  },
  {
   "cell_type": "code",
   "execution_count": 201,
   "metadata": {},
   "outputs": [
    {
     "data": {
      "image/png": "[encoded data removed]",
      "text/plain": [
       "<Figure size 432x288 with 5 Axes>"
      ]
     },
     "metadata": {
      "needs_background": "light"
     },
     "output_type": "display_data"
    }
   ],
   "source": [
    "env.plot()"
   ]
  },
  {
   "cell_type": "code",
   "execution_count": null,
   "metadata": {},
   "outputs": [],
   "source": []
  }
 ],
 "metadata": {
  "kernelspec": {
   "display_name": "venv",
   "language": "python",
   "name": "venv"
  },
  "language_info": {
   "codemirror_mode": {
    "name": "ipython",
    "version": 3
   },
   "file_extension": ".py",
   "mimetype": "text/x-python",
   "name": "python",
   "nbconvert_exporter": "python",
   "pygments_lexer": "ipython3",
   "version": "3.9.0"
  }
 },
 "nbformat": 4,
 "nbformat_minor": 5
}
